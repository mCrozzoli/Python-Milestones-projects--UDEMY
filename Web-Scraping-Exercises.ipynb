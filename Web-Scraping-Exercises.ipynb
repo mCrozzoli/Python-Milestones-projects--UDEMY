{
 "cells": [
  {
   "cell_type": "markdown",
   "metadata": {},
   "source": [
    "___\n",
    "\n",
    "<a href='https://www.udemy.com/user/joseportilla/'><img src='../Pierian_Data_Logo.png'/></a>\n",
    "___\n",
    "<center><em>Content Copyright by Pierian Data</em></center>"
   ]
  },
  {
   "cell_type": "markdown",
   "metadata": {},
   "source": [
    "# Web Scraping Exercises \n",
    "\n",
    "## Complete the Tasks Below"
   ]
  },
  {
   "cell_type": "markdown",
   "metadata": {},
   "source": [
    "**TASK: Import any libraries you think you'll need to scrape a website.**"
   ]
  },
  {
   "cell_type": "code",
   "execution_count": 2,
   "metadata": {},
   "outputs": [],
   "source": [
    "import requests\n",
    "import bs4\n",
    "import lxml"
   ]
  },
  {
   "cell_type": "markdown",
   "metadata": {},
   "source": [
    "**TASK: Notice how there is more than one page, and subsequent pages look like this http://quotes.toscrape.com/page/2/. Use what you know about for loops and string concatenation to loop through all the pages and get all the unique authors on the website. Keep in mind there are many ways to achieve this, also note that you will need to somehow figure out how to check that your loop is on the last page with quotes. For debugging purposes, I will let you know that there are only 10 pages, so the last page is http://quotes.toscrape.com/page/10/, but try to create a loop that is robust enough that it wouldn't matter to know the amount of pages beforehand, perhaps use try/except for this, its up to you!**"
   ]
  },
  {
   "cell_type": "code",
   "execution_count": 117,
   "metadata": {},
   "outputs": [
    {
     "name": "stdout",
     "output_type": "stream",
     "text": [
      "\n",
      "Page Number: 1\n",
      "Authors:\n",
      "Albert Einstein\n",
      "J.K. Rowling\n",
      "Albert Einstein\n",
      "Jane Austen\n",
      "Marilyn Monroe\n",
      "Albert Einstein\n",
      "André Gide\n",
      "Thomas A. Edison\n",
      "Eleanor Roosevelt\n",
      "Steve Martin\n",
      "Next*****\n",
      "\n",
      "Page Number: 2\n",
      "Authors:\n",
      "Marilyn Monroe\n",
      "J.K. Rowling\n",
      "Albert Einstein\n",
      "Bob Marley\n",
      "Dr. Seuss\n",
      "Douglas Adams\n",
      "Elie Wiesel\n",
      "Friedrich Nietzsche\n",
      "Mark Twain\n",
      "Allen Saunders\n",
      "Next*****\n",
      "\n",
      "Page Number: 3\n",
      "Authors:\n",
      "Pablo Neruda\n",
      "Ralph Waldo Emerson\n",
      "Mother Teresa\n",
      "Garrison Keillor\n",
      "Jim Henson\n",
      "Dr. Seuss\n",
      "Albert Einstein\n",
      "J.K. Rowling\n",
      "Albert Einstein\n",
      "Bob Marley\n",
      "Next*****\n",
      "\n",
      "Page Number: 4\n",
      "Authors:\n",
      "Dr. Seuss\n",
      "J.K. Rowling\n",
      "Bob Marley\n",
      "Mother Teresa\n",
      "J.K. Rowling\n",
      "Charles M. Schulz\n",
      "William Nicholson\n",
      "Albert Einstein\n",
      "Jorge Luis Borges\n",
      "George Eliot\n",
      "Next*****\n",
      "\n",
      "Page Number: 5\n",
      "Authors:\n",
      "George R.R. Martin\n",
      "C.S. Lewis\n",
      "Marilyn Monroe\n",
      "Marilyn Monroe\n",
      "Albert Einstein\n",
      "Marilyn Monroe\n",
      "Marilyn Monroe\n",
      "Martin Luther King Jr.\n",
      "J.K. Rowling\n",
      "James Baldwin\n",
      "Next*****\n",
      "\n",
      "Page Number: 6\n",
      "Authors:\n",
      "Jane Austen\n",
      "Eleanor Roosevelt\n",
      "Marilyn Monroe\n",
      "Albert Einstein\n",
      "Haruki Murakami\n",
      "Alexandre Dumas fils\n",
      "Stephenie Meyer\n",
      "Ernest Hemingway\n",
      "Helen Keller\n",
      "George Bernard Shaw\n",
      "Next*****\n",
      "\n",
      "Page Number: 7\n",
      "Authors:\n",
      "Charles Bukowski\n",
      "Suzanne Collins\n",
      "Suzanne Collins\n",
      "C.S. Lewis\n",
      "J.R.R. Tolkien\n",
      "J.K. Rowling\n",
      "Ernest Hemingway\n",
      "Ralph Waldo Emerson\n",
      "Mark Twain\n",
      "Dr. Seuss\n",
      "Next*****\n",
      "\n",
      "Page Number: 8\n",
      "Authors:\n",
      "Alfred Tennyson\n",
      "Charles Bukowski\n",
      "Terry Pratchett\n",
      "Dr. Seuss\n",
      "J.D. Salinger\n",
      "George Carlin\n",
      "John Lennon\n",
      "W.C. Fields\n",
      "Ayn Rand\n",
      "Mark Twain\n",
      "Next*****\n",
      "\n",
      "Page Number: 9\n",
      "Authors:\n",
      "Albert Einstein\n",
      "Jane Austen\n",
      "J.K. Rowling\n",
      "Jane Austen\n",
      "Jane Austen\n",
      "C.S. Lewis\n",
      "C.S. Lewis\n",
      "Mark Twain\n",
      "Mark Twain\n",
      "C.S. Lewis\n",
      "Next*****\n",
      "\n",
      "Page Number: 10\n",
      "Authors:\n",
      "J.K. Rowling\n",
      "Jimi Hendrix\n",
      "J.M. Barrie\n",
      "E.E. Cummings\n",
      "Khaled Hosseini\n",
      "Harper Lee\n",
      "Madeleine L'Engle\n",
      "Mark Twain\n",
      "Dr. Seuss\n",
      "George R.R. Martin\n",
      "Exit******\n"
     ]
    }
   ],
   "source": [
    "base_url = 'http://quotes.toscrape.com/page/{}/'\n",
    "page_num = 1\n",
    "list_authors = []\n",
    "\n",
    "next_page = True\n",
    "\n",
    "while next_page:\n",
    "    \n",
    "    res = requests.get(base_url.format(page_num))\n",
    "    print(f\"\\nPage Number: {page_num}\")\n",
    "    soup = bs4.BeautifulSoup(res.text,\"lxml\")\n",
    "    \n",
    "    authors = soup.select(\".author\")\n",
    "    print(f\"Authors:\")\n",
    "    for author in authors:\n",
    "        print(author.text)\n",
    "        list_authors.append(author.text)\n",
    "\n",
    "    next_page = soup.select(\".pager\")\n",
    "    if 'Next' in next_page[0].text:\n",
    "        print('Next*****')\n",
    "    else:\n",
    "        print('Exit******')\n",
    "        next_page = False\n",
    "        break\n",
    "        \n",
    "    page_num = page_num + 1\n",
    "\n",
    "\n",
    "unique_list_authors = set(list_authors)"
   ]
  },
  {
   "cell_type": "code",
   "execution_count": 115,
   "metadata": {},
   "outputs": [
    {
     "data": {
      "text/plain": [
       "{'Albert Einstein',\n",
       " 'Alexandre Dumas fils',\n",
       " 'Alfred Tennyson',\n",
       " 'Allen Saunders',\n",
       " 'André Gide',\n",
       " 'Ayn Rand',\n",
       " 'Bob Marley',\n",
       " 'C.S. Lewis',\n",
       " 'Charles Bukowski',\n",
       " 'Charles M. Schulz',\n",
       " 'Douglas Adams',\n",
       " 'Dr. Seuss',\n",
       " 'E.E. Cummings',\n",
       " 'Eleanor Roosevelt',\n",
       " 'Elie Wiesel',\n",
       " 'Ernest Hemingway',\n",
       " 'Friedrich Nietzsche',\n",
       " 'Garrison Keillor',\n",
       " 'George Bernard Shaw',\n",
       " 'George Carlin',\n",
       " 'George Eliot',\n",
       " 'George R.R. Martin',\n",
       " 'Harper Lee',\n",
       " 'Haruki Murakami',\n",
       " 'Helen Keller',\n",
       " 'J.D. Salinger',\n",
       " 'J.K. Rowling',\n",
       " 'J.M. Barrie',\n",
       " 'J.R.R. Tolkien',\n",
       " 'James Baldwin',\n",
       " 'Jane Austen',\n",
       " 'Jim Henson',\n",
       " 'Jimi Hendrix',\n",
       " 'John Lennon',\n",
       " 'Jorge Luis Borges',\n",
       " 'Khaled Hosseini',\n",
       " \"Madeleine L'Engle\",\n",
       " 'Marilyn Monroe',\n",
       " 'Mark Twain',\n",
       " 'Martin Luther King Jr.',\n",
       " 'Mother Teresa',\n",
       " 'Pablo Neruda',\n",
       " 'Ralph Waldo Emerson',\n",
       " 'Stephenie Meyer',\n",
       " 'Steve Martin',\n",
       " 'Suzanne Collins',\n",
       " 'Terry Pratchett',\n",
       " 'Thomas A. Edison',\n",
       " 'W.C. Fields',\n",
       " 'William Nicholson'}"
      ]
     },
     "execution_count": 115,
     "metadata": {},
     "output_type": "execute_result"
    }
   ],
   "source": [
    "unique_list_authors"
   ]
  },
  {
   "cell_type": "markdown",
   "metadata": {},
   "source": [
    "**TASK: Use requests library and BeautifulSoup to connect to http://quotes.toscrape.com/ and get the HMTL text from the homepage.**"
   ]
  },
  {
   "cell_type": "code",
   "execution_count": 3,
   "metadata": {},
   "outputs": [],
   "source": [
    "res = requests.get(\"http://quotes.toscrape.com/\")"
   ]
  },
  {
   "cell_type": "code",
   "execution_count": 8,
   "metadata": {},
   "outputs": [],
   "source": [
    "#res.text #displays HTML text\n",
    "\n",
    "soup = bs4.BeautifulSoup(res.text,\"lxml\")\n",
    "#soup"
   ]
  },
  {
   "cell_type": "markdown",
   "metadata": {},
   "source": [
    "**TASK: Get the names of all the authors on the first page.**"
   ]
  },
  {
   "cell_type": "code",
   "execution_count": 13,
   "metadata": {},
   "outputs": [],
   "source": [
    "authors = soup.select(\".author\")"
   ]
  },
  {
   "cell_type": "code",
   "execution_count": 34,
   "metadata": {},
   "outputs": [
    {
     "name": "stdout",
     "output_type": "stream",
     "text": [
      "{'J.K. Rowling', 'Jane Austen', 'André Gide', 'Marilyn Monroe', 'Steve Martin', 'Thomas A. Edison', 'Albert Einstein', 'Eleanor Roosevelt'}\n"
     ]
    }
   ],
   "source": [
    "list_authors = []\n",
    "\n",
    "for author in authors:\n",
    "    list_authors.append(author.text)\n",
    "\n",
    "print(set(list_authors))"
   ]
  },
  {
   "cell_type": "markdown",
   "metadata": {},
   "source": [
    "**TASK: Create a list of all the quotes on the first page.**"
   ]
  },
  {
   "cell_type": "code",
   "execution_count": 42,
   "metadata": {},
   "outputs": [],
   "source": [
    "quotes_text = soup.select(\".text\")"
   ]
  },
  {
   "cell_type": "code",
   "execution_count": 45,
   "metadata": {},
   "outputs": [
    {
     "data": {
      "text/plain": [
       "['“The world as we have created it is a process of our thinking. It cannot be changed without changing our thinking.”',\n",
       " '“It is our choices, Harry, that show what we truly are, far more than our abilities.”',\n",
       " '“There are only two ways to live your life. One is as though nothing is a miracle. The other is as though everything is a miracle.”',\n",
       " '“The person, be it gentleman or lady, who has not pleasure in a good novel, must be intolerably stupid.”',\n",
       " \"“Imperfection is beauty, madness is genius and it's better to be absolutely ridiculous than absolutely boring.”\",\n",
       " '“Try not to become a man of success. Rather become a man of value.”',\n",
       " '“It is better to be hated for what you are than to be loved for what you are not.”',\n",
       " \"“I have not failed. I've just found 10,000 ways that won't work.”\",\n",
       " \"“A woman is like a tea bag; you never know how strong it is until it's in hot water.”\",\n",
       " '“A day without sunshine is like, you know, night.”']"
      ]
     },
     "execution_count": 45,
     "metadata": {},
     "output_type": "execute_result"
    }
   ],
   "source": [
    "quotes = []\n",
    "for quote in quotes_text:\n",
    "    quotes.append(quote.text)\n",
    "    \n",
    "quotes"
   ]
  },
  {
   "cell_type": "markdown",
   "metadata": {},
   "source": [
    "**TASK: Inspect the site and use Beautiful Soup to extract the top ten tags from the requests text shown on the top right from the home page (e.g Love,Inspirational,Life, etc...). HINT: Keep in mind there are also tags underneath each quote, try to find a class only present in the top right tags, perhaps check the span.**"
   ]
  },
  {
   "cell_type": "code",
   "execution_count": 71,
   "metadata": {},
   "outputs": [],
   "source": [
    "top_tags = soup.select(\".tag-item\")"
   ]
  },
  {
   "cell_type": "code",
   "execution_count": 81,
   "metadata": {},
   "outputs": [
    {
     "data": {
      "text/plain": [
       "['love',\n",
       " 'inspirational',\n",
       " 'life',\n",
       " 'humor',\n",
       " 'books',\n",
       " 'reading',\n",
       " 'friendship',\n",
       " 'friends',\n",
       " 'truth',\n",
       " 'simile']"
      ]
     },
     "execution_count": 81,
     "metadata": {},
     "output_type": "execute_result"
    }
   ],
   "source": [
    "tags = []\n",
    "\n",
    "for tag in top_tags:\n",
    "    text_tag = tag.text[1:-1]\n",
    "    tags.append(text_tag)\n",
    "\n",
    "tags"
   ]
  }
 ],
 "metadata": {
  "kernelspec": {
   "display_name": "Python 3 (ipykernel)",
   "language": "python",
   "name": "python3"
  },
  "language_info": {
   "codemirror_mode": {
    "name": "ipython",
    "version": 3
   },
   "file_extension": ".py",
   "mimetype": "text/x-python",
   "name": "python",
   "nbconvert_exporter": "python",
   "pygments_lexer": "ipython3",
   "version": "3.9.7"
  }
 },
 "nbformat": 4,
 "nbformat_minor": 2
}
