{
 "cells": [
  {
   "cell_type": "markdown",
   "metadata": {},
   "source": [
    "# TIC TAC TOE game for UDEMY course _ Milestone project Number 1"
   ]
  },
  {
   "cell_type": "code",
   "execution_count": 2,
   "metadata": {},
   "outputs": [],
   "source": [
    "from IPython.display import clear_output\n",
    "\n",
    "def display_board(board):\n",
    "    print(\"Tica Tac Toe on board! \\n\")\n",
    "    print(f\"      {board[7]} | {board[8]} | {board[9]}\")\n",
    "    print(\"      ---------\")\n",
    "    print(f\"      {board[4]} | {board[5]} | {board[6]}\")\n",
    "    print(\"      ---------\")\n",
    "    print(f\"      {board[1]} | {board[2]} | {board[3]}\")\n",
    "    print(\"\\n\")\n"
   ]
  },
  {
   "cell_type": "code",
   "execution_count": 3,
   "metadata": {},
   "outputs": [],
   "source": [
    "#test_board = ['#','O','X','X','X','X','X',' ',' ',' ']\n",
    "#display_board(test_board)"
   ]
  },
  {
   "cell_type": "code",
   "execution_count": 4,
   "metadata": {},
   "outputs": [],
   "source": [
    "def player_input():\n",
    "    \n",
    "    choice_potential = ['X','O','x','o']\n",
    "    choice_player1 = ''\n",
    "    \n",
    "    while choice_player1 not in choice_potential:\n",
    "        choice_player1 = input(\"Welcome to Tic Tac Toe! \\n choose X or O for player 1: \")\n",
    "        \n",
    "        if choice_player1 not in choice_potential:\n",
    "            clear_output()\n",
    "            print(\"selection not valid, choose again\")\n",
    "        \n",
    "    else:\n",
    "        if choice_player1 == \"x\":\n",
    "            choice_player1 = \"X\"\n",
    "        if choice_player1 == \"o\":\n",
    "            choice_player1 = \"O\"\n",
    "            \n",
    "        return choice_player1"
   ]
  },
  {
   "cell_type": "code",
   "execution_count": 5,
   "metadata": {},
   "outputs": [],
   "source": [
    "#player_input()"
   ]
  },
  {
   "cell_type": "code",
   "execution_count": 6,
   "metadata": {},
   "outputs": [],
   "source": [
    "def place_marker(board, marker, position):\n",
    "    board[position] = marker "
   ]
  },
  {
   "cell_type": "code",
   "execution_count": 7,
   "metadata": {},
   "outputs": [],
   "source": [
    "#place_marker(test_board,'P',9)\n",
    "#display_board(test_board)"
   ]
  },
  {
   "cell_type": "code",
   "execution_count": 8,
   "metadata": {},
   "outputs": [],
   "source": [
    "def win_check(board, mark):\n",
    "    winning_positions = [(1,2,3),(4,5,6),(7,8,9),(3,5,7),(1,5,9),(1,4,7),(2,5,8),(3,6,9)]\n",
    "    \n",
    "    for win_pos in winning_positions:\n",
    "        if mark == board[win_pos[0]] and mark == board[win_pos[1]] and mark == board[win_pos[2]]:\n",
    "            #print(f\"Player {mark} won the game on the positions {win_pos}\")\n",
    "            return True\n",
    "    else:\n",
    "        return False\n",
    "    "
   ]
  },
  {
   "cell_type": "code",
   "execution_count": 9,
   "metadata": {},
   "outputs": [],
   "source": [
    "#win_check(test_board,'X')"
   ]
  },
  {
   "cell_type": "code",
   "execution_count": 10,
   "metadata": {},
   "outputs": [],
   "source": [
    "import random\n",
    "\n",
    "def choose_first():\n",
    "    chosen = random.choice([1,2])\n",
    "    return chosen"
   ]
  },
  {
   "cell_type": "code",
   "execution_count": 11,
   "metadata": {},
   "outputs": [],
   "source": [
    "#choose_first()"
   ]
  },
  {
   "cell_type": "code",
   "execution_count": 12,
   "metadata": {},
   "outputs": [],
   "source": [
    "def space_check(board, position):\n",
    "    occupied_position = 'X' in board[position] or 'O' in board[position]\n",
    "    \n",
    "    if occupied_position == True:\n",
    "        return False #the space is not available\n",
    "    else:\n",
    "        return True #the space is available"
   ]
  },
  {
   "cell_type": "code",
   "execution_count": 13,
   "metadata": {},
   "outputs": [],
   "source": [
    "#space_check(test_board, 1)"
   ]
  },
  {
   "cell_type": "code",
   "execution_count": 14,
   "metadata": {},
   "outputs": [],
   "source": [
    "def full_board_check(board):\n",
    "    \n",
    "    positions = [1,2,3,4,5,6,7,8,9]\n",
    "    empty_position = []\n",
    "    \n",
    "    for pos in positions:\n",
    "        if board[pos] != \"X\"  and board[pos] != \"O\":\n",
    "            #print(\"position empty\", pos)\n",
    "            empty_position.append(pos)\n",
    "        else:\n",
    "            #print(\"position full\", pos)\n",
    "            continue \n",
    "    \n",
    "    if len(empty_position) >= 1:\n",
    "        #print(empty_position)\n",
    "        return False, empty_position #positions available\n",
    "    elif len(empty_position) == 0:\n",
    "        return True, empty_position #the board is full"
   ]
  },
  {
   "cell_type": "code",
   "execution_count": 15,
   "metadata": {},
   "outputs": [],
   "source": [
    "#full_board_check(test_board)"
   ]
  },
  {
   "cell_type": "code",
   "execution_count": 16,
   "metadata": {},
   "outputs": [],
   "source": [
    "def player_choice(board):\n",
    "    \n",
    "    available = False\n",
    "    x,available_pos = full_board_check(board)\n",
    "    \n",
    "    while available == False:\n",
    "        try:\n",
    "            play_pos = int(input(f\"next move? choose between {available_pos} \"))\n",
    "            if space_check(board, play_pos) == True:\n",
    "                available = True\n",
    "                return play_pos\n",
    "            else:\n",
    "                #clear_output()\n",
    "                print(\"position occupied, please choose again\")\n",
    "                continue\n",
    "        except:\n",
    "            print(\"Wrong input, please choose again\")\n",
    "            continue"
   ]
  },
  {
   "cell_type": "code",
   "execution_count": 17,
   "metadata": {},
   "outputs": [],
   "source": [
    "#player_choice(test_board)"
   ]
  },
  {
   "cell_type": "code",
   "execution_count": 18,
   "metadata": {},
   "outputs": [],
   "source": [
    "def replay():\n",
    "    play_again = \"undecided\"\n",
    "    \n",
    "    while play_again not in [\"Y\",\"N\"]:\n",
    "        play_again = input(\"Do you want to play again? Y/N \")\n",
    "        \n",
    "        if play_again.upper() == \"Y\":\n",
    "            return True\n",
    "        elif play_again.upper() == \"N\":\n",
    "            return False\n",
    "        \n",
    "        else:\n",
    "            #clear_output()\n",
    "            print(\"\\n Please choose between Y or N\")\n",
    "            continue\n",
    "        "
   ]
  },
  {
   "cell_type": "code",
   "execution_count": 19,
   "metadata": {},
   "outputs": [],
   "source": [
    "#replay()"
   ]
  },
  {
   "cell_type": "markdown",
   "metadata": {},
   "source": [
    "# **PLAY THE GAME **"
   ]
  },
  {
   "cell_type": "code",
   "execution_count": 25,
   "metadata": {},
   "outputs": [
    {
     "name": "stdout",
     "output_type": "stream",
     "text": [
      "Tica Tac Toe on board! \n",
      "\n",
      "      X | 8 | 9\n",
      "      ---------\n",
      "      O | X | O\n",
      "      ---------\n",
      "      X | O | X\n",
      "\n",
      "\n",
      "\n",
      "   PLAYER ONE WINS! \n",
      "\n",
      "\n",
      "\n",
      "Do you want to play again? Y/N n\n"
     ]
    }
   ],
   "source": [
    "while True:\n",
    "    # Set the game up\n",
    "    board = ['#','1','2','3','4','5','6','7','8','9'] #preparing a new clean board \n",
    "    game_on = True\n",
    "    clear_output()\n",
    "    \n",
    "    p1_marker = player_input() #player 1 choose X or O\n",
    "    if p1_marker == 'X':\n",
    "        p2_marker = 'O'\n",
    "    else:\n",
    "        p2_marker = 'X'\n",
    "    \n",
    "    #first_to_move = choose_first() #who starts?\n",
    "\n",
    "    \n",
    "    while game_on:\n",
    "        \n",
    "        ########Player 1 Turn###########33\n",
    "        clear_output()\n",
    "        display_board(board)\n",
    "        \n",
    "        #players choice and input\n",
    "        print(\"Player ONE\")\n",
    "        p1_choice = player_choice(board)\n",
    "        if space_check(board, p1_choice):\n",
    "            place_marker(board, p1_marker, p1_choice)\n",
    "        \n",
    "        #win check\n",
    "        if win_check(board,p1_marker) == True:\n",
    "            clear_output()\n",
    "            display_board(board)\n",
    "            print('\\n   PLAYER ONE WINS! \\n\\n\\n')\n",
    "            break\n",
    "            \n",
    "        #full board check\n",
    "        fullboard,_ = full_board_check(board)\n",
    "        if fullboard == True:\n",
    "            clear_output()\n",
    "            display_board(board)\n",
    "            print(\"\\n  Full board. No one wins :/ \\n\\n\")\n",
    "            break\n",
    "        \n",
    "        \n",
    "        #######Player2's turn#########\n",
    "        clear_output()\n",
    "        display_board(board)\n",
    "        \n",
    "        #players choice and input\n",
    "        print(\"Player TWO\")\n",
    "        p2_choice = player_choice(board)\n",
    "        if space_check(board, p2_choice):\n",
    "            place_marker(board, p2_marker, p2_choice)\n",
    "        \n",
    "        #win check\n",
    "        if win_check(board,p2_marker) == True:\n",
    "            clear_output()\n",
    "            display_board(board)\n",
    "            print('\\n   PLAYER TWO WINS! \\n\\n\\n')\n",
    "            break\n",
    "            \n",
    "        #full board check    \n",
    "        fullboard,_ = full_board_check(board)\n",
    "        if fullboard == True:\n",
    "            clear_output()\n",
    "            display_board(board)\n",
    "            print(\"\\n   Full board. No one wins :/ \\n\\n\")\n",
    "            break\n",
    "        \n",
    "    if not replay():\n",
    "        break"
   ]
  },
  {
   "cell_type": "code",
   "execution_count": null,
   "metadata": {},
   "outputs": [],
   "source": []
  }
 ],
 "metadata": {
  "kernelspec": {
   "display_name": "Python 3 (ipykernel)",
   "language": "python",
   "name": "python3"
  },
  "language_info": {
   "codemirror_mode": {
    "name": "ipython",
    "version": 3
   },
   "file_extension": ".py",
   "mimetype": "text/x-python",
   "name": "python",
   "nbconvert_exporter": "python",
   "pygments_lexer": "ipython3",
   "version": "3.9.7"
  }
 },
 "nbformat": 4,
 "nbformat_minor": 1
}
